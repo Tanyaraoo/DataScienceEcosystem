{
 "cells": [
  {
   "cell_type": "markdown",
   "id": "d6850ecb-5157-47d5-bc30-e5c341f1f093",
   "metadata": {},
   "source": [
    "# Data Science Tools and Ecosystem"
   ]
  },
  {
   "cell_type": "markdown",
   "id": "ad002c4e-a26c-400b-9329-3f7a3d767477",
   "metadata": {},
   "source": [
    " In this notebook, Data Science Tools and Ecosystem are summarized."
   ]
  },
  {
   "cell_type": "markdown",
   "id": "dd424e79-9eed-433f-97e6-49940d2b4135",
   "metadata": {},
   "source": [
    "**Objectives:** List popular languages for Data Science\n",
    "<ul>\n",
    "    <li>Python</li>\n",
    "    <li>R</li>\n",
    "    <li>SQL</li>\n",
    "</ul>\n"
   ]
  },
  {
   "cell_type": "markdown",
   "id": "874fde66-95b6-4121-a4d0-8d0a2bc1e97b",
   "metadata": {},
   "source": [
    "Some of the popular languages that Data Scientists use are:"
   ]
  },
  {
   "cell_type": "markdown",
   "id": "e261690f-1b9c-4009-a8dd-9317c4b48236",
   "metadata": {},
   "source": [
    "1. Python \n",
    "2. R\n",
    "3. SQL\n",
    "4. Java \n",
    "5. Julia"
   ]
  },
  {
   "cell_type": "markdown",
   "id": "a96a189b-4cd4-4929-93c0-a5374b0113ca",
   "metadata": {},
   "source": [
    "Some of the commonly used libraries used by Data Scientists include:"
   ]
  },
  {
   "cell_type": "markdown",
   "id": "66e7f75f-75a6-4057-81ee-51b4399bff56",
   "metadata": {},
   "source": [
    "1. Pandas \n",
    "2. NumPy\n",
    "3. Scikit-Learn\n",
    "4. Matplotlib\n",
    "5. Tensorflow"
   ]
  },
  {
   "cell_type": "markdown",
   "id": "eb8af112-8b4b-4fd6-b272-ef9f433905f3",
   "metadata": {},
   "source": [
    "| Data Science Tools | \n",
    "| -------------| \n",
    "| Jupyter Notebook | \n",
    "| RStudio |\n",
    "| Spyder | "
   ]
  },
  {
   "cell_type": "markdown",
   "id": "43b6c61c-b19e-4bbe-808b-bf3ff5f79c47",
   "metadata": {},
   "source": [
    "### Below are a few examples of evaluating arithmetic expressions in Python"
   ]
  },
  {
   "cell_type": "code",
   "execution_count": 9,
   "id": "398ae90f-bb15-45fa-b931-c80a5b854b32",
   "metadata": {},
   "outputs": [
    {
     "data": {
      "text/plain": [
       "17"
      ]
     },
     "execution_count": 9,
     "metadata": {},
     "output_type": "execute_result"
    }
   ],
   "source": [
    "#This a simple arithmetic expression to mutiply then add integers\n",
    "(3*4)+5"
   ]
  },
  {
   "cell_type": "code",
   "execution_count": 10,
   "id": "dac598f0-cb0a-41e8-b4b1-224cc496d778",
   "metadata": {},
   "outputs": [],
   "source": [
    "#This will convert 200 minutes to hours by diving by 60"
   ]
  },
  {
   "cell_type": "code",
   "execution_count": 11,
   "id": "da424335-5c40-4c56-8b2b-08f0bd138655",
   "metadata": {},
   "outputs": [
    {
     "data": {
      "text/plain": [
       "3.3333333333333335"
      ]
     },
     "execution_count": 11,
     "metadata": {},
     "output_type": "execute_result"
    }
   ],
   "source": [
    "200/60"
   ]
  },
  {
   "cell_type": "markdown",
   "id": "ec91ddcd-808d-4d68-b5f3-a1ec55eee194",
   "metadata": {},
   "source": [
    "## Author\n",
    "       Tanya "
   ]
  }
 ],
 "metadata": {
  "kernelspec": {
   "display_name": "anaconda-panel-2023.05-py310",
   "language": "python",
   "name": "conda-env-anaconda-panel-2023.05-py310-py"
  },
  "language_info": {
   "codemirror_mode": {
    "name": "ipython",
    "version": 3
   },
   "file_extension": ".py",
   "mimetype": "text/x-python",
   "name": "python",
   "nbconvert_exporter": "python",
   "pygments_lexer": "ipython3",
   "version": "3.11.5"
  }
 },
 "nbformat": 4,
 "nbformat_minor": 5
}
